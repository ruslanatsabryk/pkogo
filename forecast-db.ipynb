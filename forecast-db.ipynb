{
 "cells": [
  {
   "cell_type": "code",
   "execution_count": 1,
   "id": "38e64d76-c788-4b3d-9eab-a19bc693668b",
   "metadata": {},
   "outputs": [],
   "source": [
    "import os\n",
    "import pickle\n",
    "import csv\n",
    "import numpy as np\n",
    "import psycopg2\n",
    "import psycopg2.extras"
   ]
  },
  {
   "cell_type": "code",
   "execution_count": 2,
   "id": "6cbeb4c0-5d73-4d8d-a856-44bdea22efd3",
   "metadata": {},
   "outputs": [],
   "source": [
    "def close_db(connection, cursor):\n",
    "    if connection:\n",
    "        cursor.close()\n",
    "        connection.close()\n",
    "    "
   ]
  },
  {
   "cell_type": "code",
   "execution_count": 3,
   "id": "bc0d6cfa-6c09-4984-89a5-eb8c06fd1598",
   "metadata": {},
   "outputs": [],
   "source": [
    "def connect_db(dict_cursor=False):\n",
    "    db_params = {\n",
    "        \"host\": \"192.168.29.134\",\n",
    "        \"port\": \"5432\",\n",
    "        \"database\": \"pkogo\",\n",
    "        \"user\": \"pkogouser\",\n",
    "        \"password\": \"pkogouser\",\n",
    "    }\n",
    "    try:\n",
    "        conn = psycopg2.connect(**db_params)\n",
    "        if dict_cursor:\n",
    "            cursor = conn.cursor(cursor_factory=psycopg2.extras.RealDictCursor)\n",
    "        else:\n",
    "            cursor = conn.cursor()\n",
    "    except (Exception, psycopg2.Error) as error:\n",
    "        print(f\"Error connecting to database: {error}\")\n",
    "\n",
    "    return conn, cursor"
   ]
  },
  {
   "cell_type": "markdown",
   "id": "23a36d14-2f54-4edd-bd04-3ecba00281fe",
   "metadata": {},
   "source": [
    "#### Функция чтения набора данных"
   ]
  },
  {
   "cell_type": "code",
   "execution_count": 13,
   "id": "7c916958-08fc-4fa0-b7ef-2517ac982a92",
   "metadata": {},
   "outputs": [],
   "source": [
    "def get_predict_dataset_db(year, station_id, pr_list=None):\n",
    "    conn, cursor = connect_db()\n",
    "    \n",
    "    predictors = ', '.join(pr_list)\n",
    "    sql_observations = f\"\"\"\n",
    "    SELECT {predictors} FROM maxlevel.predict_data\n",
    "    WHERE predict_year = %s and station_id = %s \n",
    "    \"\"\"\n",
    "    station_arg = (year, station_id,)\n",
    "    cursor.execute(sql_observations, station_arg)\n",
    "    observations = cursor.fetchall()\n",
    "    \n",
    "    close_db(conn, cursor)\n",
    "        \n",
    "    X = np.asarray(observations, dtype=np.float64)\n",
    "    return X"
   ]
  },
  {
   "cell_type": "markdown",
   "id": "c2f85915-970a-4a02-b6e5-85aa86fa8e1d",
   "metadata": {},
   "source": [
    "#### Функция формирования тестового набора данных с подстановкой нормированных значений"
   ]
  },
  {
   "cell_type": "code",
   "execution_count": 5,
   "id": "260024c9-0662-4996-8761-ea9bfe657cad",
   "metadata": {},
   "outputs": [],
   "source": [
    "def test_norm(x, pr_list, norms):\n",
    "    x_norm = np.copy(x)\n",
    "    for col, pr in enumerate(pr_list):\n",
    "        if pr in norms:\n",
    "            ix = (np.isnan(x_norm[:, col]))\n",
    "            x_norm[ix, col] = norms[pr] \n",
    "    return x_norm"
   ]
  },
  {
   "cell_type": "markdown",
   "id": "7b3ed287-4243-4b34-8d1d-c858171f6047",
   "metadata": {},
   "source": [
    "### Функция получения списка моделей из БД (таблица models)"
   ]
  },
  {
   "cell_type": "code",
   "execution_count": 14,
   "id": "e07b07a6-735b-4d00-9365-3a5d5ac4f58c",
   "metadata": {},
   "outputs": [],
   "source": [
    "def get_models_db(year):\n",
    "    conn, cursor = connect_db(dict_cursor=True)\n",
    "    sql = \"\"\"\n",
    "    select m.forecast_year, m.model_id, m.station_id, m.predictors_id, p.predictors, m.model_file \n",
    "    from maxlevel.models m\n",
    "    inner join maxlevel.predictors_groups p on m.predictors_id = p.predictors_id\n",
    "    where forecast_year = %s\n",
    "    order by m.station_id, m.model_id, m.group_n, m.predictors_id;\n",
    "    \"\"\"\n",
    "    cursor.execute(sql, (year, ))\n",
    "    models = cursor.fetchall()\n",
    "    close_db(conn, cursor)\n",
    "    \n",
    "    return models"
   ]
  },
  {
   "cell_type": "markdown",
   "id": "eafb25dc-b5b4-4ca1-a00c-1bf000b6e5bc",
   "metadata": {},
   "source": [
    "### Функция прогнозирования"
   ]
  },
  {
   "cell_type": "code",
   "execution_count": 17,
   "id": "a3a11c20-d0bb-4bb4-94a4-acaf583d53c8",
   "metadata": {},
   "outputs": [],
   "source": [
    "def forecast_db(year, stations_id=None):\n",
    "\n",
    "    fieldnames = [\n",
    "        'Group',\n",
    "        'Prediction',\n",
    "        'Criterion', \n",
    "        'Correlation', \n",
    "        'Pm',\n",
    "        'R2',        \n",
    "        'R2_t',\n",
    "        'Method', \n",
    "        'Predictors', \n",
    "        'Equations',        \n",
    "    ]\n",
    "    \n",
    "    models = get_models_db(year)\n",
    "    for model_row in models:\n",
    "        if stations_id:\n",
    "            if not model_row['station_id'] in stations_id:\n",
    "                continue\n",
    "        model_file = model_row['model_file']\n",
    "        with open(model_file, 'rb') as f:\n",
    "            model_info = pickle.load(f)\n",
    "            model = model_info['Model_full']\n",
    "            pr_list = model_row['predictors'].replace(' ' , '').split(',')\n",
    "            X_new = get_predict_dataset_db(year, model_row['station_id'], pr_list=pr_list)\n",
    "            print(X_new)\n",
    "            y_predicted = np.ravel(model.predict(X_new))\n",
    "            model_row['prediction'] = round(y_predicted[-1])\n",
    "            # print(model_row['Prediction'])\n",
    "            write_forecast_db(model_row)\n",
    "\n",
    "    "
   ]
  },
  {
   "cell_type": "markdown",
   "id": "d73e9ecb-d9b6-46d6-a8c4-b88ea1077fb5",
   "metadata": {},
   "source": [
    "### Функция записи данных в БД"
   ]
  },
  {
   "cell_type": "code",
   "execution_count": 8,
   "id": "06ca9c87-54b7-4ffe-b29e-7c73fdf7c706",
   "metadata": {},
   "outputs": [],
   "source": [
    "def write_forecast_db(model_row):\n",
    "    conn, cursor = connect_db(dict_cursor=True)\n",
    "\n",
    "    sql = \"\"\"\n",
    "    INSERT INTO maxlevel.forecasts (forecast_year, model_id, station_id, predictors_id, h_max)\n",
    "    VALUES (%s, %s, %s, %s, %s)\n",
    "    \"\"\"\n",
    "    args = (model_row['forecast_year'], model_row['model_id'], model_row['station_id'], model_row['predictors_id'], model_row['prediction'])\n",
    "    cursor.execute(sql, args)\n",
    "    conn.commit()\n",
    "\n",
    "    close_db(conn, cursor)\n",
    " "
   ]
  },
  {
   "cell_type": "markdown",
   "id": "96182e4d-99d5-43cd-8574-4cc27106bf9d",
   "metadata": {},
   "source": [
    "#### Пример запуска процесса прогнозирования"
   ]
  },
  {
   "cell_type": "code",
   "execution_count": 19,
   "id": "95919005-ce2e-434c-9755-2171f7e46bf1",
   "metadata": {},
   "outputs": [
    {
     "name": "stdout",
     "output_type": "stream",
     "text": [
      "[[ 41. 636. 165.  68.]]\n",
      "[[ 41. 636. 165.  68.]]\n",
      "[[ 41. 636. 165.  68.]]\n",
      "[[ 11. 636.  56. 199.]]\n",
      "[[ 11. 636.  56. 199.]]\n",
      "[[ 11. 636.  56. 199.]]\n",
      "[[ 11.  41. 636. 165.  68.  56. 199.]]\n",
      "[[ 11.  41. 636. 165.  68.  56. 199.]]\n",
      "[[ 11.  41. 636. 165.  68.  56. 199.]]\n",
      "[[ 11.  41. 636. 165.  68.  56. 199.]]\n"
     ]
    }
   ],
   "source": [
    "forecast_db(2024, stations_id=[73131]) #, 73111])"
   ]
  },
  {
   "cell_type": "code",
   "execution_count": null,
   "id": "1fb377e9-61a2-44b2-9c6e-9abb25291fb8",
   "metadata": {},
   "outputs": [],
   "source": []
  }
 ],
 "metadata": {
  "kernelspec": {
   "display_name": "Python 3 (ipykernel)",
   "language": "python",
   "name": "python3"
  },
  "language_info": {
   "codemirror_mode": {
    "name": "ipython",
    "version": 3
   },
   "file_extension": ".py",
   "mimetype": "text/x-python",
   "name": "python",
   "nbconvert_exporter": "python",
   "pygments_lexer": "ipython3",
   "version": "3.10.11"
  }
 },
 "nbformat": 4,
 "nbformat_minor": 5
}
