{
 "cells": [
  {
   "cell_type": "code",
   "execution_count": 1,
   "id": "38e64d76-c788-4b3d-9eab-a19bc693668b",
   "metadata": {},
   "outputs": [],
   "source": [
    "import os"
   ]
  },
  {
   "cell_type": "markdown",
   "id": "eafb25dc-b5b4-4ca1-a00c-1bf000b6e5bc",
   "metadata": {},
   "source": [
    "### Функция прогнозирования"
   ]
  },
  {
   "cell_type": "code",
   "execution_count": 11,
   "id": "60d417d6-3c45-4804-b8b6-3ce9f89a3841",
   "metadata": {},
   "outputs": [],
   "source": [
    "def forecast(year):\n",
    "\n",
    "    models_dir = f'results\\Models\\{year}'\n",
    "\n",
    "    # Получить список файлов .ipnb из results\\Models\\<year>\n",
    "    file_list = tuple(filter(lambda fn: '.pickle' in fn, os.listdir(models_dir)))\n",
    "    print(file_list)\n",
    "\n",
    "    # Сделать множество из кортежей (Название-датасета, группа), преобразовать в список, отсортировать\n",
    "    dataset_group = set()\n",
    "    for fn in file_list:\n",
    "        dataset, year, group, model = fn.split('_')\n",
    "        dataset_group |= {(dataset, group.split('гр')[1])}\n",
    "    ds_list = sorted(dataset_group)\n",
    "    print(ds_list)\n",
    "\n",
    "    # Для каждого элемента списка создать result_list[one_model_raw: dict]\n",
    "    \n",
    "    for ds in ds_list:\n",
    "        result_list = []\n",
    "        ds_models = filter(lambda fn: ds[0] in fn and ds[1] in fn, file_list)\n",
    "        for file_name in ds_models:\n",
    "            with open(f'results/models/{year}', 'rb') as f:\n",
    "                one_model_row = pickle.load(f)\n",
    "                model = model_info['Model_full']\n",
    "                y_predicted = np.ravel(model.predict(X_new))\n",
    "                one_model_row['Prediction'] = y_predicted\n",
    "                result_list.append(one_model_row)\n",
    "                # Сортировка результатов по каждому датасету\n",
    "                result_list.sort(key=lambda row: (row['Criterion'], -row['Correlation'], -row['Pm']))\n",
    "    \n",
    "    "
   ]
  },
  {
   "cell_type": "code",
   "execution_count": 12,
   "id": "d381c631-abb7-45dc-94cf-599ce7731cbe",
   "metadata": {},
   "outputs": [
    {
     "name": "stdout",
     "output_type": "stream",
     "text": [
      "('Вилия-Стешицы_2024_гр0_ARDRegression.pickle', 'Вилия-Стешицы_2024_гр0_BayesianRidge.pickle', 'Вилия-Стешицы_2024_гр0_BayesianRidgeCV.pickle', 'Вилия-Стешицы_2024_гр0_ElasticNetCV.pickle', 'Вилия-Стешицы_2024_гр0_LinearRegression.pickle', 'Вилия-Стешицы_2024_гр0_Ridge.pickle', 'Вилия-Стешицы_2024_гр0_RidgeCV.pickle', 'Вилия-Стешицы_2024_гр1_ARDRegression.pickle', 'Вилия-Стешицы_2024_гр1_BayesianRidge.pickle', 'Вилия-Стешицы_2024_гр1_BayesianRidgeCV.pickle', 'Вилия-Стешицы_2024_гр1_ElasticNetCV.pickle', 'Вилия-Стешицы_2024_гр1_LinearRegression.pickle', 'Вилия-Стешицы_2024_гр1_Ridge.pickle', 'Вилия-Стешицы_2024_гр1_RidgeCV.pickle', 'Вилия-Стешицы_2024_гр2_ARDRegression.pickle', 'Вилия-Стешицы_2024_гр2_BayesianRidge.pickle', 'Вилия-Стешицы_2024_гр2_BayesianRidgeCV.pickle', 'Вилия-Стешицы_2024_гр2_ElasticNetCV.pickle', 'Вилия-Стешицы_2024_гр2_LinearRegression.pickle', 'Вилия-Стешицы_2024_гр2_Ridge.pickle', 'Вилия-Стешицы_2024_гр2_RidgeCV.pickle', 'Неман-Белица_2024_гр0_ARDRegression.pickle', 'Неман-Белица_2024_гр0_BayesianRidge.pickle', 'Неман-Белица_2024_гр0_BayesianRidgeCV.pickle', 'Неман-Белица_2024_гр0_ElasticNetCV.pickle', 'Неман-Белица_2024_гр0_LinearRegression.pickle', 'Неман-Белица_2024_гр0_Ridge.pickle', 'Неман-Белица_2024_гр0_RidgeCV.pickle', 'Неман-Белица_2024_гр1_ARDRegression.pickle', 'Неман-Белица_2024_гр1_BayesianRidge.pickle', 'Неман-Белица_2024_гр1_BayesianRidgeCV.pickle', 'Неман-Белица_2024_гр1_ElasticNetCV.pickle', 'Неман-Белица_2024_гр1_LinearRegression.pickle', 'Неман-Белица_2024_гр1_Ridge.pickle', 'Неман-Белица_2024_гр1_RidgeCV.pickle', 'Неман-Белица_2024_гр2_ARDRegression.pickle', 'Неман-Белица_2024_гр2_BayesianRidge.pickle', 'Неман-Белица_2024_гр2_BayesianRidgeCV.pickle', 'Неман-Белица_2024_гр2_ElasticNetCV.pickle', 'Неман-Белица_2024_гр2_LinearRegression.pickle', 'Неман-Белица_2024_гр2_Ridge.pickle', 'Неман-Белица_2024_гр2_RidgeCV.pickle')\n",
      "[('Вилия-Стешицы', '0'), ('Вилия-Стешицы', '1'), ('Вилия-Стешицы', '2'), ('Неман-Белица', '0'), ('Неман-Белица', '1'), ('Неман-Белица', '2')]\n",
      "['Вилия-Стешицы_2024_гр0_ARDRegression.pickle', 'Вилия-Стешицы_2024_гр0_BayesianRidge.pickle', 'Вилия-Стешицы_2024_гр0_BayesianRidgeCV.pickle', 'Вилия-Стешицы_2024_гр0_ElasticNetCV.pickle', 'Вилия-Стешицы_2024_гр0_LinearRegression.pickle', 'Вилия-Стешицы_2024_гр0_Ridge.pickle', 'Вилия-Стешицы_2024_гр0_RidgeCV.pickle', 'Вилия-Стешицы_2024_гр1_ARDRegression.pickle', 'Вилия-Стешицы_2024_гр1_BayesianRidge.pickle', 'Вилия-Стешицы_2024_гр1_BayesianRidgeCV.pickle', 'Вилия-Стешицы_2024_гр1_ElasticNetCV.pickle', 'Вилия-Стешицы_2024_гр1_LinearRegression.pickle', 'Вилия-Стешицы_2024_гр1_Ridge.pickle', 'Вилия-Стешицы_2024_гр1_RidgeCV.pickle', 'Вилия-Стешицы_2024_гр2_ARDRegression.pickle', 'Вилия-Стешицы_2024_гр2_BayesianRidge.pickle', 'Вилия-Стешицы_2024_гр2_BayesianRidgeCV.pickle', 'Вилия-Стешицы_2024_гр2_ElasticNetCV.pickle', 'Вилия-Стешицы_2024_гр2_LinearRegression.pickle', 'Вилия-Стешицы_2024_гр2_Ridge.pickle', 'Вилия-Стешицы_2024_гр2_RidgeCV.pickle']\n",
      "['Вилия-Стешицы_2024_гр1_ARDRegression.pickle', 'Вилия-Стешицы_2024_гр1_BayesianRidge.pickle', 'Вилия-Стешицы_2024_гр1_BayesianRidgeCV.pickle', 'Вилия-Стешицы_2024_гр1_ElasticNetCV.pickle', 'Вилия-Стешицы_2024_гр1_LinearRegression.pickle', 'Вилия-Стешицы_2024_гр1_Ridge.pickle', 'Вилия-Стешицы_2024_гр1_RidgeCV.pickle']\n",
      "['Вилия-Стешицы_2024_гр0_ARDRegression.pickle', 'Вилия-Стешицы_2024_гр0_BayesianRidge.pickle', 'Вилия-Стешицы_2024_гр0_BayesianRidgeCV.pickle', 'Вилия-Стешицы_2024_гр0_ElasticNetCV.pickle', 'Вилия-Стешицы_2024_гр0_LinearRegression.pickle', 'Вилия-Стешицы_2024_гр0_Ridge.pickle', 'Вилия-Стешицы_2024_гр0_RidgeCV.pickle', 'Вилия-Стешицы_2024_гр1_ARDRegression.pickle', 'Вилия-Стешицы_2024_гр1_BayesianRidge.pickle', 'Вилия-Стешицы_2024_гр1_BayesianRidgeCV.pickle', 'Вилия-Стешицы_2024_гр1_ElasticNetCV.pickle', 'Вилия-Стешицы_2024_гр1_LinearRegression.pickle', 'Вилия-Стешицы_2024_гр1_Ridge.pickle', 'Вилия-Стешицы_2024_гр1_RidgeCV.pickle', 'Вилия-Стешицы_2024_гр2_ARDRegression.pickle', 'Вилия-Стешицы_2024_гр2_BayesianRidge.pickle', 'Вилия-Стешицы_2024_гр2_BayesianRidgeCV.pickle', 'Вилия-Стешицы_2024_гр2_ElasticNetCV.pickle', 'Вилия-Стешицы_2024_гр2_LinearRegression.pickle', 'Вилия-Стешицы_2024_гр2_Ridge.pickle', 'Вилия-Стешицы_2024_гр2_RidgeCV.pickle']\n",
      "['Неман-Белица_2024_гр0_ARDRegression.pickle', 'Неман-Белица_2024_гр0_BayesianRidge.pickle', 'Неман-Белица_2024_гр0_BayesianRidgeCV.pickle', 'Неман-Белица_2024_гр0_ElasticNetCV.pickle', 'Неман-Белица_2024_гр0_LinearRegression.pickle', 'Неман-Белица_2024_гр0_Ridge.pickle', 'Неман-Белица_2024_гр0_RidgeCV.pickle', 'Неман-Белица_2024_гр1_ARDRegression.pickle', 'Неман-Белица_2024_гр1_BayesianRidge.pickle', 'Неман-Белица_2024_гр1_BayesianRidgeCV.pickle', 'Неман-Белица_2024_гр1_ElasticNetCV.pickle', 'Неман-Белица_2024_гр1_LinearRegression.pickle', 'Неман-Белица_2024_гр1_Ridge.pickle', 'Неман-Белица_2024_гр1_RidgeCV.pickle', 'Неман-Белица_2024_гр2_ARDRegression.pickle', 'Неман-Белица_2024_гр2_BayesianRidge.pickle', 'Неман-Белица_2024_гр2_BayesianRidgeCV.pickle', 'Неман-Белица_2024_гр2_ElasticNetCV.pickle', 'Неман-Белица_2024_гр2_LinearRegression.pickle', 'Неман-Белица_2024_гр2_Ridge.pickle', 'Неман-Белица_2024_гр2_RidgeCV.pickle']\n",
      "['Неман-Белица_2024_гр1_ARDRegression.pickle', 'Неман-Белица_2024_гр1_BayesianRidge.pickle', 'Неман-Белица_2024_гр1_BayesianRidgeCV.pickle', 'Неман-Белица_2024_гр1_ElasticNetCV.pickle', 'Неман-Белица_2024_гр1_LinearRegression.pickle', 'Неман-Белица_2024_гр1_Ridge.pickle', 'Неман-Белица_2024_гр1_RidgeCV.pickle']\n",
      "['Неман-Белица_2024_гр0_ARDRegression.pickle', 'Неман-Белица_2024_гр0_BayesianRidge.pickle', 'Неман-Белица_2024_гр0_BayesianRidgeCV.pickle', 'Неман-Белица_2024_гр0_ElasticNetCV.pickle', 'Неман-Белица_2024_гр0_LinearRegression.pickle', 'Неман-Белица_2024_гр0_Ridge.pickle', 'Неман-Белица_2024_гр0_RidgeCV.pickle', 'Неман-Белица_2024_гр1_ARDRegression.pickle', 'Неман-Белица_2024_гр1_BayesianRidge.pickle', 'Неман-Белица_2024_гр1_BayesianRidgeCV.pickle', 'Неман-Белица_2024_гр1_ElasticNetCV.pickle', 'Неман-Белица_2024_гр1_LinearRegression.pickle', 'Неман-Белица_2024_гр1_Ridge.pickle', 'Неман-Белица_2024_гр1_RidgeCV.pickle', 'Неман-Белица_2024_гр2_ARDRegression.pickle', 'Неман-Белица_2024_гр2_BayesianRidge.pickle', 'Неман-Белица_2024_гр2_BayesianRidgeCV.pickle', 'Неман-Белица_2024_гр2_ElasticNetCV.pickle', 'Неман-Белица_2024_гр2_LinearRegression.pickle', 'Неман-Белица_2024_гр2_Ridge.pickle', 'Неман-Белица_2024_гр2_RidgeCV.pickle']\n"
     ]
    }
   ],
   "source": [
    "forecast(2024)"
   ]
  },
  {
   "cell_type": "code",
   "execution_count": null,
   "id": "003c2934-2b3e-4635-a306-3d65bebcedd1",
   "metadata": {},
   "outputs": [],
   "source": []
  }
 ],
 "metadata": {
  "kernelspec": {
   "display_name": "Python 3 (ipykernel)",
   "language": "python",
   "name": "python3"
  },
  "language_info": {
   "codemirror_mode": {
    "name": "ipython",
    "version": 3
   },
   "file_extension": ".py",
   "mimetype": "text/x-python",
   "name": "python",
   "nbconvert_exporter": "python",
   "pygments_lexer": "ipython3",
   "version": "3.10.11"
  }
 },
 "nbformat": 4,
 "nbformat_minor": 5
}
