{
 "cells": [
  {
   "cell_type": "code",
   "execution_count": 1,
   "id": "64c8031c-3e29-4149-aaa3-ef3f3f0d444b",
   "metadata": {},
   "outputs": [],
   "source": [
    "import csv\n",
    "import numpy as np\n",
    "from sklearn import linear_model\n",
    "from sklearn import preprocessing"
   ]
  },
  {
   "cell_type": "code",
   "execution_count": 2,
   "id": "7cff566a-8886-47b1-a651-f3df2c864e39",
   "metadata": {},
   "outputs": [],
   "source": [
    "def get_river_predictors(fname, pr_list=None, y_name='h_max'):\n",
    "    pr_arr = []\n",
    "    y_arr = []\n",
    "    with open(fname, newline='') as f:\n",
    "        reader = csv.DictReader(f, delimiter=';')\n",
    "        for row in reader:\n",
    "            pr_arr_row = []\n",
    "            for col in pr_list:\n",
    "                pr_arr_row.append(row[col])\n",
    "                #print(f'{col}: {row[col]}', end='; ')\n",
    "            pr_arr.append(pr_arr_row)\n",
    "            y_arr.append(row[y_name])\n",
    "    X = np.asarray(pr_arr, dtype=np.float32)\n",
    "    y = np.asarray(y_arr, dtype=np.float32)\n",
    "    return X, y"
   ]
  },
  {
   "cell_type": "code",
   "execution_count": null,
   "id": "aeefcc78-8f34-4d17-9c94-b42101cdc562",
   "metadata": {},
   "outputs": [],
   "source": []
  },
  {
   "cell_type": "markdown",
   "id": "5832758f-f4bb-49d3-b7fc-70c85bb3d701",
   "metadata": {},
   "source": [
    "#### Среднеквадратическое отклонение sigma"
   ]
  },
  {
   "cell_type": "code",
   "execution_count": 3,
   "id": "f2c7b47a-b765-49cf-96ba-ce8dec0cf7ba",
   "metadata": {},
   "outputs": [],
   "source": [
    "def get_sigma(hydropost):\n",
    "    sigma = {\n",
    "        'Неман-Белица': 93,\n",
    "    }\n",
    "    return sigma[hydropost]"
   ]
  },
  {
   "cell_type": "markdown",
   "id": "2e57968c-87b7-44ab-aa80-79f1aec3a650",
   "metadata": {},
   "source": [
    "#### Допустимая погрешность прогноза sigma_dop"
   ]
  },
  {
   "cell_type": "code",
   "execution_count": 4,
   "id": "22d4648d-8e14-4c63-bcf8-6a3c2cb7a829",
   "metadata": {},
   "outputs": [],
   "source": [
    "def get_sigma_dop(sigma):\n",
    "    return 0.674 * sigma"
   ]
  },
  {
   "cell_type": "markdown",
   "id": "019a96a1-c37d-47ba-b369-2a015ec5706f",
   "metadata": {},
   "source": [
    "#### Сумма, средний, высший, низший уровни"
   ]
  },
  {
   "cell_type": "code",
   "execution_count": 5,
   "id": "4aa78832-4724-42e1-8e4f-8513406d88ed",
   "metadata": {},
   "outputs": [],
   "source": [
    "def get_sum(h_max):\n",
    "    return np.sum(h_max)\n",
    "    \n",
    "def get_avg(h_max):\n",
    "    return np.mean(h_max)\n",
    "    \n",
    "def get_max(h_max):\n",
    "    return np.amax(h_max)\n",
    "    \n",
    "def get_min(h_max):\n",
    "    return np.amin(h_max)"
   ]
  },
  {
   "cell_type": "markdown",
   "id": "a96dafa4-e1f7-4c26-b28d-3dfd6a2b1b14",
   "metadata": {},
   "source": [
    "#### Среднеквадратическая погрешность S_climat"
   ]
  },
  {
   "cell_type": "code",
   "execution_count": 6,
   "id": "6ad85fc4-c2cd-4a9f-8a0a-bb4fe4cdfe0c",
   "metadata": {},
   "outputs": [],
   "source": [
    "def get_s_climat(h_max):\n",
    "    # Среднеквадратическая погрешность\n",
    "    return np.std(h_max, ddof=1)"
   ]
  },
  {
   "cell_type": "markdown",
   "id": "99c1c7ff-c4e1-4639-a877-d3b78d944dea",
   "metadata": {},
   "source": [
    "#### Критерий эффективности метода прогнозирования климатический S/sigma"
   ]
  },
  {
   "cell_type": "code",
   "execution_count": 7,
   "id": "f92739a9-3b12-44bd-b51e-4ffd73e828a2",
   "metadata": {},
   "outputs": [],
   "source": [
    "def get_criterion_climat(s_climat, sigma):\n",
    "    return s_climat / sigma"
   ]
  },
  {
   "cell_type": "markdown",
   "id": "eaec5970-ba12-4121-8403-cd13b812b2de",
   "metadata": {},
   "source": [
    "#### Климатическая обеспеченность Pk"
   ]
  },
  {
   "cell_type": "code",
   "execution_count": 8,
   "id": "c4e1b890-8fb7-4fdd-8196-610544acee2e",
   "metadata": {},
   "outputs": [],
   "source": [
    "def get_pk(h_max, sigma_dop):\n",
    "    avg_level = np.mean(h_max)\n",
    "    diff = np.abs(h_max - avg_level)\n",
    "    trusted_values = diff[diff <= sigma_dop]\n",
    "    return trusted_values"
   ]
  },
  {
   "cell_type": "markdown",
   "id": "d06a41f7-345e-4f4e-a651-306876865f40",
   "metadata": {},
   "source": [
    "### Формирование набора данных"
   ]
  },
  {
   "cell_type": "code",
   "execution_count": 9,
   "id": "878a3a90-4937-413c-98ff-5dc2b2c1196f",
   "metadata": {},
   "outputs": [],
   "source": [
    "pr_list = ['s_2802', 's_max', 'h', 'x', 'x1', 'x2', 'x3', 'x4', 'xs']"
   ]
  },
  {
   "cell_type": "code",
   "execution_count": 10,
   "id": "cfb41ade-215a-4420-b76f-5e81115a0860",
   "metadata": {},
   "outputs": [],
   "source": [
    "X, y = get_river_predictors('data/Неман-Белица-2010.csv', pr_list=pr_list)"
   ]
  },
  {
   "cell_type": "markdown",
   "id": "6a77f409-16ae-48d4-a547-3bd6d9bba69f",
   "metadata": {},
   "source": [
    "### Вычисление статистики"
   ]
  },
  {
   "cell_type": "code",
   "execution_count": 11,
   "id": "cc073128-1161-47dd-a214-31f9a98b4e23",
   "metadata": {},
   "outputs": [
    {
     "name": "stdout",
     "output_type": "stream",
     "text": [
      "Среднеквадратическое отклонение sigma = 93\n",
      "Допустимая погрешность прогноза sigma_dop = 62.682\n",
      "Сумма 8743.0, Средний 301.4827575683594, Высший 494.0, Низший 187.0\n",
      "Среднеквадратическая погрешность климатическая: 73.22158813476562\n",
      "Критерий эффективности метода прогнозирования климатический S/sigma = 0.7873289046748992\n",
      "[20.482758  9.517242 55.517242  8.482758 32.482758  9.482758 52.482758\n",
      " 60.517242 52.517242 59.517242 56.482758 49.482758 43.517242 37.482758\n",
      " 39.517242 47.482758 44.517242 15.482758]\n"
     ]
    }
   ],
   "source": [
    "# Среднеквадратическое отклонение sigma\n",
    "sigma = get_sigma('Неман-Белица')\n",
    "print(f'Среднеквадратическое отклонение sigma = {sigma}')\n",
    "\n",
    "# Допустимая погрешность прогноза sigma_dop\n",
    "sigma_dop = get_sigma_dop(sigma)\n",
    "print(f'Допустимая погрешность прогноза sigma_dop = {sigma_dop}')\n",
    "\n",
    "# Статистика максимального уровня\n",
    "sum_level = get_sum(y)\n",
    "avg_level = get_avg(y)\n",
    "max_level = get_max(y)\n",
    "min_level = get_min(y)\n",
    "print(f'Сумма {sum_level}, Средний {avg_level}, Высший {max_level}, Низший {min_level}')\n",
    "\n",
    "# Среднеквадратическая погрешность климатическая S\n",
    "s_climat = get_s_climat(y)\n",
    "print(f'Среднеквадратическая погрешность климатическая: {s_climat}')\n",
    "\n",
    "# Критерий эффективности метода прогнозирования климатический S/sigma\n",
    "criterion_climat = get_criterion_climat(s_climat, sigma)\n",
    "print(f'Критерий эффективности метода прогнозирования климатический S/sigma = {criterion_climat}')\n",
    "\n",
    "# Климатическая обеспеченность Pk\n",
    "pk = get_pk(y, sigma_dop)\n",
    "print(pk)"
   ]
  },
  {
   "cell_type": "markdown",
   "id": "1de70d2b-7908-4523-b473-27368557404f",
   "metadata": {},
   "source": [
    "### Обучающий набор"
   ]
  },
  {
   "cell_type": "code",
   "execution_count": 12,
   "id": "89754005-cbf6-4afa-8ace-094582bf7230",
   "metadata": {},
   "outputs": [],
   "source": [
    "test_qnt = 5"
   ]
  },
  {
   "cell_type": "code",
   "execution_count": 13,
   "id": "7a90d07a-6509-48fc-b2b9-aa3f6d23d54c",
   "metadata": {},
   "outputs": [],
   "source": [
    "X_train = X[:-test_qnt]\n",
    "X_test = X[-test_qnt:]"
   ]
  },
  {
   "cell_type": "code",
   "execution_count": 14,
   "id": "73a0224c-d141-45b2-ae86-7fc169248baf",
   "metadata": {},
   "outputs": [],
   "source": [
    "y_train = y[:-test_qnt]\n",
    "y_test = y[-test_qnt:]"
   ]
  },
  {
   "cell_type": "markdown",
   "id": "c3f58c02-117c-42f4-bcb5-b7d4f29373de",
   "metadata": {},
   "source": [
    "## Этап нормализации"
   ]
  },
  {
   "cell_type": "code",
   "execution_count": 15,
   "id": "25c4145e-6043-428e-960d-4c1612d8d838",
   "metadata": {},
   "outputs": [],
   "source": [
    "scaler = preprocessing.StandardScaler().fit(X_train)\n",
    "X_train_sc = scaler.transform(X_train)\n",
    "X_test_sc = scaler.transform(X_test)\n"
   ]
  },
  {
   "cell_type": "markdown",
   "id": "53b2fa87-5476-4e32-aac1-1efdb783a64f",
   "metadata": {},
   "source": [
    "***Этап выбора предикторов "
   ]
  },
  {
   "cell_type": "code",
   "execution_count": null,
   "id": "d57fed05-874e-4cea-9216-dcbd49887ddc",
   "metadata": {},
   "outputs": [],
   "source": []
  },
  {
   "cell_type": "code",
   "execution_count": 16,
   "id": "cbf03458-4e23-477f-b8d6-629729b75611",
   "metadata": {},
   "outputs": [
    {
     "name": "stdout",
     "output_type": "stream",
     "text": [
      "[391.6121  270.77252 241.98505 262.59338 394.25763]\n"
     ]
    }
   ],
   "source": [
    "regr = linear_model.LinearRegression()\n",
    "regr = regr.fit(X_train, y_train)\n",
    "y_predicted = regr.predict(X_test)\n",
    "print(y_predicted)"
   ]
  },
  {
   "cell_type": "code",
   "execution_count": null,
   "id": "a35615af-9a19-409a-a65a-afb1bbaec9b8",
   "metadata": {},
   "outputs": [],
   "source": []
  },
  {
   "cell_type": "code",
   "execution_count": 17,
   "id": "2a77d18f-683a-41ba-9f6b-c6930cfc99fc",
   "metadata": {},
   "outputs": [
    {
     "name": "stdout",
     "output_type": "stream",
     "text": [
      "[318.13388 312.99374 449.7868  337.92435 290.10712 322.85605 285.67328\n",
      " 242.60152 333.3111  344.278   305.12723 356.0053  210.08038 247.47137\n",
      " 195.08206 241.5033  394.0265  199.71321 391.25323 395.59488 244.62839\n",
      " 266.76663 325.56165 308.52032]\n"
     ]
    }
   ],
   "source": [
    "regr_sc = linear_model.LinearRegression()\n",
    "regr_sc = regr.fit(X_train_sc, y_train)\n",
    "y_predicted = regr.predict(X_train_sc)\n",
    "print(y_predicted)"
   ]
  },
  {
   "cell_type": "code",
   "execution_count": 18,
   "id": "57bb691e-e241-4e83-91d2-d995eb66763e",
   "metadata": {},
   "outputs": [
    {
     "name": "stdout",
     "output_type": "stream",
     "text": [
      "[284.82 307.33 437.87 349.07 292.74 288.76 284.83 265.34 355.55 340.84\n",
      " 345.06 360.23 209.77 252.15 234.68 277.45 380.47 228.85 347.82 363.12\n",
      " 227.29 259.95 334.71 277.92]\n"
     ]
    }
   ],
   "source": [
    "from sklearn.ensemble import RandomForestRegressor\n",
    "regr = RandomForestRegressor()\n",
    "regr = regr.fit(X_train, y_train)\n",
    "y_predicted = regr.predict(X_train)\n",
    "print(y_predicted)"
   ]
  },
  {
   "cell_type": "code",
   "execution_count": null,
   "id": "a8aa0d7a-f96a-47f4-a286-3583c7b66134",
   "metadata": {},
   "outputs": [],
   "source": []
  }
 ],
 "metadata": {
  "kernelspec": {
   "display_name": "Python 3 (ipykernel)",
   "language": "python",
   "name": "python3"
  },
  "language_info": {
   "codemirror_mode": {
    "name": "ipython",
    "version": 3
   },
   "file_extension": ".py",
   "mimetype": "text/x-python",
   "name": "python",
   "nbconvert_exporter": "python",
   "pygments_lexer": "ipython3",
   "version": "3.10.11"
  }
 },
 "nbformat": 4,
 "nbformat_minor": 5
}
