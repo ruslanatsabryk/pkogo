{
 "cells": [
  {
   "cell_type": "code",
   "execution_count": 1,
   "id": "64c8031c-3e29-4149-aaa3-ef3f3f0d444b",
   "metadata": {},
   "outputs": [],
   "source": [
    "import csv\n",
    "import numpy as np\n",
    "from sklearn import linear_model\n",
    "from sklearn import preprocessing"
   ]
  },
  {
   "cell_type": "code",
   "execution_count": 2,
   "id": "7cff566a-8886-47b1-a651-f3df2c864e39",
   "metadata": {},
   "outputs": [],
   "source": [
    "def get_river_dataset(fname, pr_list=None, y_name='h_max'):\n",
    "    pr_arr = []\n",
    "    y_arr = []\n",
    "    with open(fname, newline='') as f:\n",
    "        reader = csv.DictReader(f, delimiter=';')\n",
    "        for row in reader:\n",
    "            pr_arr_row = []\n",
    "            for col in pr_list:\n",
    "                pr_arr_row.append(row[col])\n",
    "                #print(f'{col}: {row[col]}', end='; ')\n",
    "            pr_arr.append(pr_arr_row)\n",
    "            y_arr.append(row[y_name])\n",
    "    X = np.asarray(pr_arr, dtype=np.float32)\n",
    "    y = np.asarray(y_arr, dtype=np.float32)\n",
    "    return X, y"
   ]
  },
  {
   "cell_type": "code",
   "execution_count": null,
   "id": "aeefcc78-8f34-4d17-9c94-b42101cdc562",
   "metadata": {},
   "outputs": [],
   "source": []
  },
  {
   "cell_type": "markdown",
   "id": "5832758f-f4bb-49d3-b7fc-70c85bb3d701",
   "metadata": {},
   "source": [
    "#### Среднеквадратическое отклонение sigma"
   ]
  },
  {
   "cell_type": "code",
   "execution_count": 3,
   "id": "f2c7b47a-b765-49cf-96ba-ce8dec0cf7ba",
   "metadata": {},
   "outputs": [],
   "source": [
    "def get_sigma(hydropost):\n",
    "    sigma = {\n",
    "        'Неман-Белица': 93,\n",
    "    }\n",
    "    return sigma[hydropost]"
   ]
  },
  {
   "cell_type": "markdown",
   "id": "2e57968c-87b7-44ab-aa80-79f1aec3a650",
   "metadata": {},
   "source": [
    "#### Допустимая погрешность прогноза sigma_dop"
   ]
  },
  {
   "cell_type": "code",
   "execution_count": 4,
   "id": "22d4648d-8e14-4c63-bcf8-6a3c2cb7a829",
   "metadata": {},
   "outputs": [],
   "source": [
    "def get_delta_dop(sigma):\n",
    "    return 0.674 * sigma"
   ]
  },
  {
   "cell_type": "markdown",
   "id": "019a96a1-c37d-47ba-b369-2a015ec5706f",
   "metadata": {},
   "source": [
    "#### Сумма, средний, высший, низший уровни"
   ]
  },
  {
   "cell_type": "code",
   "execution_count": 5,
   "id": "4aa78832-4724-42e1-8e4f-8513406d88ed",
   "metadata": {},
   "outputs": [],
   "source": [
    "def get_sum(h_max):\n",
    "    return np.sum(h_max)\n",
    "    \n",
    "def get_avg(h_max):\n",
    "    return np.mean(h_max)\n",
    "    \n",
    "def get_max(h_max):\n",
    "    return np.amax(h_max)\n",
    "    \n",
    "def get_min(h_max):\n",
    "    return np.amin(h_max)"
   ]
  },
  {
   "cell_type": "markdown",
   "id": "a96dafa4-e1f7-4c26-b28d-3dfd6a2b1b14",
   "metadata": {},
   "source": [
    "#### Среднеквадратическая погрешность S"
   ]
  },
  {
   "cell_type": "code",
   "execution_count": 6,
   "id": "6ad85fc4-c2cd-4a9f-8a0a-bb4fe4cdfe0c",
   "metadata": {},
   "outputs": [],
   "source": [
    "def get_s(h_max, h_forecast=None):\n",
    "    if h_forecast is None:\n",
    "        # Среднеквадратическая погрешность климатическая\n",
    "        return np.std(h_max, ddof=1)\n",
    "    else:\n",
    "        # Среднеквадратическая погрешность прогноза\n",
    "        n = h_max.shape[0]\n",
    "        sqr_diff = np.sum((h_max - h_forecast) ** 2) / (n - 1)\n",
    "        std = sqr_diff ** 0.5\n",
    "        return std    "
   ]
  },
  {
   "cell_type": "markdown",
   "id": "99c1c7ff-c4e1-4639-a877-d3b78d944dea",
   "metadata": {},
   "source": [
    "#### Критерий эффективности метода прогнозирования климатический S/sigma"
   ]
  },
  {
   "cell_type": "code",
   "execution_count": 7,
   "id": "f92739a9-3b12-44bd-b51e-4ffd73e828a2",
   "metadata": {},
   "outputs": [],
   "source": [
    "def get_criterion(s, sigma):\n",
    "    return s / sigma"
   ]
  },
  {
   "cell_type": "markdown",
   "id": "eaec5970-ba12-4121-8403-cd13b812b2de",
   "metadata": {},
   "source": [
    "#### Климатическая обеспеченность Pk"
   ]
  },
  {
   "cell_type": "code",
   "execution_count": 8,
   "id": "c4e1b890-8fb7-4fdd-8196-610544acee2e",
   "metadata": {},
   "outputs": [],
   "source": [
    "def get_pk(h_max, delta_dop):\n",
    "    avg_level = np.mean(h_max)\n",
    "    diff = np.abs(h_max - avg_level)\n",
    "    trusted_values = diff[diff <= delta_dop]\n",
    "    m = trusted_values.shape[0]\n",
    "    n = h_max.shape[0]\n",
    "    return m / n * 100.00"
   ]
  },
  {
   "cell_type": "markdown",
   "id": "62a4c686-2946-4ea0-980a-172b2ff4dd64",
   "metadata": {},
   "source": [
    "#### Обеспеченность метода (оправдываемость) Pm"
   ]
  },
  {
   "cell_type": "code",
   "execution_count": 9,
   "id": "68ca5adf-fbf3-49a4-8458-06d103bfacdd",
   "metadata": {},
   "outputs": [],
   "source": [
    "def get_pm(h_max, h_forecast, delta_dop):\n",
    "    diff = np.abs(h_max - h_forecast)\n",
    "    trusted_values = diff[diff <= delta_dop]\n",
    "    m = trusted_values.shape[0]\n",
    "    n = h_max.shape[0]\n",
    "    #print(m, n)\n",
    "    return m / n * 100.00"
   ]
  },
  {
   "cell_type": "markdown",
   "id": "7f9d93f0-e243-4107-b007-cb24efbdc6f6",
   "metadata": {},
   "source": [
    "#### Корреляционное отношение"
   ]
  },
  {
   "cell_type": "code",
   "execution_count": 10,
   "id": "a501afb2-3736-4023-a488-a19747e54910",
   "metadata": {},
   "outputs": [],
   "source": [
    "def get_correlation_ratio(criterion):\n",
    "    return (1 - criterion ** 2) ** 0.5"
   ]
  },
  {
   "cell_type": "markdown",
   "id": "c059ec96-bf22-4b2b-83f9-dc2112e0c942",
   "metadata": {},
   "source": [
    "#### Вероятная погрешность прогноза delta50"
   ]
  },
  {
   "cell_type": "code",
   "execution_count": 11,
   "id": "88e88b65-02b2-4bee-9262-b84a7a1ea70d",
   "metadata": {},
   "outputs": [],
   "source": [
    "def get_delta50(s):\n",
    "    return 0.674 * s"
   ]
  },
  {
   "cell_type": "markdown",
   "id": "00b0cc72-ec19-437b-b6c5-8010c2e3a5bf",
   "metadata": {},
   "source": [
    "#### Функция записи в csv файл"
   ]
  },
  {
   "cell_type": "code",
   "execution_count": 12,
   "id": "a4c76ad0-d75c-4746-90dc-0d8465218463",
   "metadata": {},
   "outputs": [],
   "source": [
    "import csv\n",
    "def write_dataset_csv(dataset, filename, fieldnames):\n",
    "    with open(f'results/{filename}.csv', 'w', newline='') as csvfile:\n",
    "        writer = csv.DictWriter(csvfile, fieldnames=fieldnames, delimiter=';')\n",
    "        writer.writeheader()\n",
    "        writer.writerows(dataset)\n"
   ]
  },
  {
   "cell_type": "code",
   "execution_count": 13,
   "id": "7dff9414-8a26-4393-b480-446307aafc2e",
   "metadata": {},
   "outputs": [],
   "source": [
    "def compare_models():\n",
    "    from sklearn.linear_model import LinearRegression\n",
    "    from sklearn.linear_model import Ridge\n",
    "    from sklearn.linear_model import Lasso\n",
    "    from sklearn.linear_model import ElasticNet, ElasticNetCV\n",
    "    from sklearn.linear_model import Lars, LarsCV\n",
    "    from sklearn.linear_model import LassoLars\n",
    "\n",
    "    from sklearn.gaussian_process import GaussianProcessRegressor\n",
    "    from sklearn.gaussian_process.kernels import DotProduct, WhiteKernel, RBF\n",
    "    \n",
    "    \n",
    "    ds_dir = 'data'\n",
    "    \n",
    "    names = [\n",
    "        'LinearRegression',\n",
    "        'Ridge',\n",
    "        'Lasso',\n",
    "        'ElasticNet',\n",
    "        'ElasticNetCV',\n",
    "        'LassoLars',\n",
    "        'Lars1',\n",
    "        'Lars2',\n",
    "        'Lars3',\n",
    "        'Lars4',\n",
    "        'Lars5',\n",
    "        'Lars6',\n",
    "        'Lars7',\n",
    "        'Lars8',\n",
    "        'LarsCV',\n",
    "        \n",
    "        #'GaussianProcessRegressor',\n",
    "        \n",
    "    ]\n",
    "\n",
    "    regressors = [\n",
    "        LinearRegression(),\n",
    "        Ridge(alpha=10),\n",
    "        Lasso(alpha=100.0),\n",
    "        ElasticNet(alpha=2.0, l1_ratio=0.1),\n",
    "        ElasticNetCV(l1_ratio=[.1, .5, .7, .9, .95, .99, 1], eps=0.01, n_alphas=1000),\n",
    "        LassoLars(alpha=1.0),\n",
    "        Lars(n_nonzero_coefs=1),\n",
    "        Lars(n_nonzero_coefs=2),\n",
    "        Lars(n_nonzero_coefs=3),\n",
    "        Lars(n_nonzero_coefs=4),\n",
    "        Lars(n_nonzero_coefs=5),\n",
    "        Lars(n_nonzero_coefs=6),\n",
    "        Lars(n_nonzero_coefs=7),\n",
    "        Lars(n_nonzero_coefs=8),\n",
    "        LarsCV(max_iter=5000, max_n_alphas=10000, cv=3),\n",
    "\n",
    "        #GaussianProcessRegressor(kernel=RBF(length_scale=1.1) + WhiteKernel() + DotProduct(), random_state=0)\n",
    "    ]\n",
    "\n",
    "    datasets = [\n",
    "        ('Неман-Белица', 'Неман')\n",
    "    ]\n",
    "\n",
    "    predictors_lists = {\n",
    "        'Неман': ['s_2802', 's_max', 'h', 'x', 'x1', 'x2', 'x3', 'x4', 'xs'],\n",
    "    }\n",
    "\n",
    "    fieldnames = ['Predictors', 'Equations', 'Method', 'Criterion', 'Correlation', 'Pm']\n",
    "    \n",
    "    # Итерация по датасетам\n",
    "    for ds in datasets:\n",
    "        dataset_result = []\n",
    "        X, y = get_river_dataset(f'{ds_dir}/{ds[0]}-2022.csv', pr_list=predictors_lists[ds[1]])\n",
    "\n",
    "        # Итерация по моделям регрессии\n",
    "        for name, regr in zip(names, regressors):\n",
    "            model_row = dict()\n",
    "            regr = regr.fit(X, y)\n",
    "            y_predicted = regr.predict(X)\n",
    "            \n",
    "\n",
    "            # Коэффициенты уравнения (если есть)\n",
    "            try:\n",
    "                # coef = [regr.intercept_] + list(regr.coef_)\n",
    "                # # Преобразование списка коэффициентов в строку\n",
    "                # coef_str = ' '.join(str(round(c, 3)) for c in coef)\n",
    "                # coef_str = coef_str.replace(\" -\", \"-\")\n",
    "                # coef_str = coef_str.replace(\" \", \"+\")\n",
    "\n",
    "                predictors_coef = {f: c for f, c in zip(predictors_lists[ds[1]], regr.coef_) if c != 0.0}\n",
    "                predictors = \", \".join(predictors_coef.keys())\n",
    "                equation = ' '.join(str(round(c, 2))+'*'+f for f, c in predictors_coef.items())\n",
    "                equation = equation.replace(\" -\", \"-\")\n",
    "                equation = equation.replace(\" \", \" + \")\n",
    "                equation = equation.replace(\"-\", \" - \")\n",
    "    \n",
    "                model_row['Predictors'] = predictors\n",
    "                model_row['Equations'] = equation\n",
    "            except Exception:\n",
    "                model_row['Predictors'] = \"\"\n",
    "                model_row['Equations'] = \"\"\n",
    "\n",
    "            # Название метода\n",
    "            model_row['Method'] = name\n",
    "\n",
    "            # Расчет показателей качества по методике\n",
    "            \n",
    "            sigma = get_sigma(ds[0])\n",
    "            delta_dop = get_delta_dop(sigma)\n",
    "            s_forecast = get_s(y, y_predicted)\n",
    "            \n",
    "            \n",
    "            # Критерий эффективности метода прогнозирования климатический S/sigma\n",
    "            criterion_forecast = get_criterion(s_forecast, sigma)\n",
    "            model_row['Criterion'] = round(criterion_forecast, 2)\n",
    "            \n",
    "            # Корреляционное отношение ro\n",
    "            correlation_forecast = get_correlation_ratio(criterion_forecast)\n",
    "            model_row['Correlation'] = round(correlation_forecast, 2)\n",
    "            \n",
    "            # Обеспеченность метода (оправдываемость) Pm\n",
    "            pm = get_pm(y, y_predicted, delta_dop)\n",
    "            model_row['Pm'] = round(pm, 2)\n",
    "\n",
    "            dataset_result.append(model_row)\n",
    "\n",
    "            # Сортировка результатов по каждому датасету\n",
    "            dataset_result.sort(key=lambda row: (row['Criterion'], -row['Correlation'], -row['Pm']))\n",
    "\n",
    "            # Запись в .csv файл\n",
    "            write_dataset_csv(dataset_result, ds[0], fieldnames)\n",
    "\n",
    "    return dataset_result"
   ]
  },
  {
   "cell_type": "code",
   "execution_count": 14,
   "id": "4c6a6cd0-b14f-4e4c-a8a9-3493aafc0529",
   "metadata": {},
   "outputs": [
    {
     "name": "stdout",
     "output_type": "stream",
     "text": [
      "{'Predictors': 's_2802, s_max, h, x, x1, x2, x3, x4, xs', 'Equations': '0.98*s_2802 + 0.31*s_max + 0.53*h + 1.61*x + 1.44*x1 - 0.24*x2 - 3.43*x3 + 12.16*x4 - 1.2*xs', 'Method': 'LinearRegression', 'Criterion': 0.4, 'Correlation': 0.92, 'Pm': 97.3}\n",
      "{'Predictors': 's_2802, s_max, h, x, x1, x2, x3, x4, xs', 'Equations': '1.05*s_2802 + 0.22*s_max + 0.51*h + 1.57*x + 1.4*x1 - 0.17*x2 - 0.38*x3 + 1.98*x4 - 1.15*xs', 'Method': 'Ridge', 'Criterion': 0.4, 'Correlation': 0.92, 'Pm': 97.3}\n",
      "{'Predictors': 's_2802, s_max, h, x, x1, x2, x3, x4, xs', 'Equations': '1.07*s_2802 + 0.19*s_max + 0.51*h + 1.49*x + 1.32*x1 - 0.1*x2 + 0.12*x3 + 0.3*x4 - 1.06*xs', 'Method': 'ElasticNet', 'Criterion': 0.4, 'Correlation': 0.92, 'Pm': 97.3}\n",
      "{'Predictors': 's_2802, s_max, h, x, x1, x2, x3, xs', 'Equations': '1.07*s_2802 + 0.2*s_max + 0.51*h + 1.53*x + 1.36*x1 - 0.13*x2 + 0.21*x3 - 1.1*xs', 'Method': 'LassoLars', 'Criterion': 0.4, 'Correlation': 0.92, 'Pm': 97.3}\n",
      "{'Predictors': 's_2802, s_max, h, x, x1, x2, x3, xs', 'Equations': '1.07*s_2802 + 0.2*s_max + 0.51*h + 1.55*x + 1.39*x1 - 0.15*x2 + 0.21*x3 - 1.12*xs', 'Method': 'Lars8', 'Criterion': 0.4, 'Correlation': 0.92, 'Pm': 97.3}\n",
      "{'Predictors': 's_2802, h, x, x1, x2, x3, xs', 'Equations': '1.22*s_2802 + 0.45*h + 0.93*x + 0.72*x1 + 0.32*x2 + 0.2*x3 - 0.51*xs', 'Method': 'Lars7', 'Criterion': 0.41, 'Correlation': 0.91, 'Pm': 91.89}\n",
      "{'Predictors': 's_2802, h, x, x1, x2, x3', 'Equations': '1.21*s_2802 + 0.41*h + 0.4*x + 0.16*x1 + 0.7*x2 + 0.2*x3', 'Method': 'Lars6', 'Criterion': 0.42, 'Correlation': 0.91, 'Pm': 91.89}\n",
      "{'Predictors': 's_2802, h, x, x1, x2, x3', 'Equations': '1.18*s_2802 + 0.37*h + 0.34*x + 0.07*x1 + 0.66*x2 + 0.18*x3', 'Method': 'Lasso', 'Criterion': 0.43, 'Correlation': 0.9, 'Pm': 89.19}\n",
      "{'Predictors': 's_2802, h, x, x2, x3', 'Equations': '1.15*s_2802 + 0.35*h + 0.3*x + 0.64*x2 + 0.17*x3', 'Method': 'Lars5', 'Criterion': 0.43, 'Correlation': 0.9, 'Pm': 89.19}\n",
      "{'Predictors': 's_2802, h, x, x2, x3', 'Equations': '1.11*s_2802 + 0.29*h + 0.26*x + 0.48*x2 + 0.15*x3', 'Method': 'LarsCV', 'Criterion': 0.45, 'Correlation': 0.89, 'Pm': 89.19}\n",
      "{'Predictors': 's_2802, s_max, h, x, x1, x2, x3', 'Equations': '0.69*s_2802 + 0.36*s_max + 0.33*h + 0.34*x + 0.09*x1 + 0.39*x2 + 0.19*x3', 'Method': 'ElasticNetCV', 'Criterion': 0.46, 'Correlation': 0.89, 'Pm': 89.19}\n",
      "{'Predictors': 's_2802, h, x, x3', 'Equations': '0.98*s_2802 + 0.09*h + 0.16*x + 0.06*x3', 'Method': 'Lars4', 'Criterion': 0.54, 'Correlation': 0.84, 'Pm': 89.19}\n",
      "{'Predictors': 's_2802, x, x3', 'Equations': '0.93*s_2802 + 0.11*x + 0.02*x3', 'Method': 'Lars3', 'Criterion': 0.56, 'Correlation': 0.83, 'Pm': 81.08}\n",
      "{'Predictors': 's_2802, x', 'Equations': '0.91*s_2802 + 0.1*x', 'Method': 'Lars2', 'Criterion': 0.57, 'Correlation': 0.82, 'Pm': 81.08}\n",
      "{'Predictors': 's_2802', 'Equations': '0.68*s_2802', 'Method': 'Lars1', 'Criterion': 0.62, 'Correlation': 0.78, 'Pm': 78.38}\n"
     ]
    }
   ],
   "source": [
    "result = compare_models()\n",
    "print(*result, sep='\\n')"
   ]
  },
  {
   "cell_type": "markdown",
   "id": "d06a41f7-345e-4f4e-a651-306876865f40",
   "metadata": {},
   "source": [
    "### Формирование набора данных"
   ]
  },
  {
   "cell_type": "code",
   "execution_count": 15,
   "id": "878a3a90-4937-413c-98ff-5dc2b2c1196f",
   "metadata": {},
   "outputs": [],
   "source": [
    "#pr_list = ['s_2802', 's_max', 'h', 'x', 'x1', 'x2', 'x3', 'x4', 'xs']"
   ]
  },
  {
   "cell_type": "code",
   "execution_count": 16,
   "id": "3c3a7499-5ecf-4382-829d-c3e5a0500be1",
   "metadata": {},
   "outputs": [],
   "source": [
    "pr_list = ['s_2802', 's_max', 'h', 'x', 'x1', 'x2', 'x3', 'xs']"
   ]
  },
  {
   "cell_type": "code",
   "execution_count": 17,
   "id": "cfb41ade-215a-4420-b76f-5e81115a0860",
   "metadata": {},
   "outputs": [],
   "source": [
    "X, y = get_river_dataset('data/Неман-Белица-2022.csv', pr_list=pr_list)"
   ]
  },
  {
   "cell_type": "markdown",
   "id": "95bd715b-125f-48e9-8780-f5a6bc6c312e",
   "metadata": {},
   "source": [
    "### Нормализация данных"
   ]
  },
  {
   "cell_type": "code",
   "execution_count": 18,
   "id": "77780ebb-7cef-47b2-a65d-c14898422bbc",
   "metadata": {},
   "outputs": [],
   "source": [
    "# Стандартизация\n",
    "scaler = preprocessing.StandardScaler().fit(X)\n",
    "X_train_st = scaler.transform(X)\n"
   ]
  },
  {
   "cell_type": "markdown",
   "id": "5c199635-480b-495d-a2a4-c79580537d8c",
   "metadata": {},
   "source": [
    "### Модели регрессии"
   ]
  },
  {
   "cell_type": "code",
   "execution_count": null,
   "id": "b14db5e2-b870-4764-8db1-da9ba2fa86c5",
   "metadata": {},
   "outputs": [],
   "source": []
  },
  {
   "cell_type": "markdown",
   "id": "b5080edf-9f4a-459c-8f4c-033034e313f8",
   "metadata": {},
   "source": [
    "#### Линейная регрессия"
   ]
  },
  {
   "cell_type": "code",
   "execution_count": 19,
   "id": "f5f8efa5-9408-4ce6-a712-025837d75589",
   "metadata": {},
   "outputs": [
    {
     "name": "stdout",
     "output_type": "stream",
     "text": [
      "[286.93356 332.20343 450.00058 305.71146 272.2185  328.75146 274.95145\n",
      " 247.11786 309.54523 357.50894 308.29926 302.80093 198.77216 247.6426\n",
      " 225.88866 259.27112 359.91058 209.0416  392.24146 367.39508 240.4675\n",
      " 265.16626 312.1084  309.3382  343.23138 307.57138 255.45236 257.1446\n",
      " 365.3783  281.29486 210.21957 393.6142  155.48703 238.59187 272.66876\n",
      " 261.3518  209.70857]\n"
     ]
    }
   ],
   "source": [
    "regr = linear_model.LinearRegression(fit_intercept=True)\n",
    "regr = regr.fit(X, y)\n",
    "y_predicted = regr.predict(X)\n",
    "print(y_predicted)"
   ]
  },
  {
   "cell_type": "markdown",
   "id": "6a77f409-16ae-48d4-a547-3bd6d9bba69f",
   "metadata": {},
   "source": [
    "### Вычисление статистики"
   ]
  },
  {
   "cell_type": "code",
   "execution_count": 20,
   "id": "049a9b9a-974b-4d26-ad42-1b9eda9f4a47",
   "metadata": {},
   "outputs": [
    {
     "name": "stdout",
     "output_type": "stream",
     "text": [
      "Среднеквадратическое отклонение sigma = 93\n",
      "Допустимая погрешность прогноза sigma_dop = 62.682\n"
     ]
    }
   ],
   "source": [
    "# Среднеквадратическое отклонение sigma\n",
    "sigma = get_sigma('Неман-Белица')\n",
    "print(f'Среднеквадратическое отклонение sigma = {sigma}')\n",
    "\n",
    "# Допустимая погрешность прогноза delta_dop\n",
    "delta_dop = get_delta_dop(sigma)\n",
    "print(f'Допустимая погрешность прогноза sigma_dop = {delta_dop}')"
   ]
  },
  {
   "cell_type": "markdown",
   "id": "94ccef1d-8aaa-46d5-a0fd-6bf75c30ff7f",
   "metadata": {},
   "source": [
    "#### Климат"
   ]
  },
  {
   "cell_type": "code",
   "execution_count": 21,
   "id": "cc073128-1161-47dd-a214-31f9a98b4e23",
   "metadata": {},
   "outputs": [
    {
     "name": "stdout",
     "output_type": "stream",
     "text": [
      "Сумма 10715.0, Средний 289.5946044921875, Высший 494.0, Низший 181.0\n",
      "Среднеквадратическая погрешность климатическая: 72.81576538085938\n",
      "Критерий эффективности метода прогнозирования климатический S/sigma = 0.7829652191490255\n",
      "Климатическая обеспеченность Pk, % = 48.64864864864865\n",
      "Корреляционное отношение климатическое ro = 0.622065483372063\n",
      "Вероятная погрешность климатическая delta50 = 49.07782586669922\n"
     ]
    }
   ],
   "source": [
    "# Статистика максимального уровня\n",
    "sum_level = get_sum(y)\n",
    "avg_level = get_avg(y)\n",
    "max_level = get_max(y)\n",
    "min_level = get_min(y)\n",
    "print(f'Сумма {sum_level}, Средний {avg_level}, Высший {max_level}, Низший {min_level}')\n",
    "\n",
    "# Среднеквадратическая погрешность климатическая S\n",
    "s_climate = get_s(y)\n",
    "print(f'Среднеквадратическая погрешность климатическая: {s_climate}')\n",
    "\n",
    "# Критерий эффективности метода прогнозирования климатический S/sigma\n",
    "criterion_climate = get_criterion(s_climate, sigma)\n",
    "print(f'Критерий эффективности метода прогнозирования климатический S/sigma = {criterion_climate}')\n",
    "\n",
    "# Климатическая обеспеченность Pk\n",
    "pk = get_pk(y, delta_dop)\n",
    "print(f'Климатическая обеспеченность Pk, % = {pk}')\n",
    "\n",
    "# Корреляционное отношение ro\n",
    "ro_climate = get_correlation_ratio(criterion_climate)\n",
    "print(f'Корреляционное отношение климатическое ro = {ro_climate}')\n",
    "\n",
    "# Вероятная погрешность прогноза delta50\n",
    "delta50_climate = get_delta50(s_climate)\n",
    "print(f'Вероятная погрешность климатическая delta50 = {delta50_climate}')"
   ]
  },
  {
   "cell_type": "markdown",
   "id": "965ca06a-3618-4b00-a278-bf19d2e03ee6",
   "metadata": {},
   "source": [
    "#### Прогноз"
   ]
  },
  {
   "cell_type": "code",
   "execution_count": 22,
   "id": "ff9d28ce-11ae-4619-9e02-eb54144fa75e",
   "metadata": {},
   "outputs": [
    {
     "name": "stdout",
     "output_type": "stream",
     "text": [
      "24.197815 [ 1.0610781   0.21267036  0.5112206   1.575687    1.4131064  -0.1730848\n",
      "  0.20844726 -1.1489737 ]\n",
      "Среднеквадратическая погрешность прогноза: 37.40045381158496\n",
      "Критерий эффективности метода прогнозирования S/sigma = 0.40215541732887056\n",
      "Обеспеченность метода (оправдываемость) Pm, % = 97.2972972972973\n",
      "Корреляционное отношение ro = 0.9155714173744405\n",
      "Вероятная погрешность прогноза delta50 = 25.207905869008265\n"
     ]
    }
   ],
   "source": [
    "# Коэффициенты регрессии\n",
    "print(regr.intercept_, regr.coef_)\n",
    "\n",
    "# Среднеквадратическая погрешность климатическая S\n",
    "s_forecast = get_s(y, y_predicted)\n",
    "print(f'Среднеквадратическая погрешность прогноза: {s_forecast}')\n",
    "\n",
    "# Критерий эффективности метода прогнозирования климатический S/sigma\n",
    "criterion_forecast = get_criterion(s_forecast, sigma)\n",
    "print(f'Критерий эффективности метода прогнозирования S/sigma = {criterion_forecast}')\n",
    "\n",
    "# Обеспеченность метода (оправдываемость) Pm\n",
    "pm = get_pm(y, y_predicted, delta_dop)\n",
    "print(f'Обеспеченность метода (оправдываемость) Pm, % = {pm}')\n",
    "\n",
    "# Корреляционное отношение ro\n",
    "ro_forecast = get_correlation_ratio(criterion_forecast)\n",
    "print(f'Корреляционное отношение ro = {ro_forecast}')\n",
    "\n",
    "# Вероятная погрешность прогноза delta50\n",
    "delta50_forecast = get_delta50(s_forecast)\n",
    "print(f'Вероятная погрешность прогноза delta50 = {delta50_forecast}')"
   ]
  },
  {
   "cell_type": "raw",
   "id": "f3da721c-ac86-4afe-8af7-a0cec9e1f0e5",
   "metadata": {},
   "source": [
    "289.5946 [ 37.161125    6.904029   17.490725   72.53384    45.801464   -3.9831583\n",
    "   9.45435   -39.79478  ]\n",
    "Среднеквадратическая погрешность прогноза: 37.40044945975472\n",
    "Критерий эффективности метода прогнозирования S/sigma = 0.40215537053499695\n",
    "36 37\n",
    "Обеспеченность метода (оправдываемость) Pm, % = 97.2972972972973\n",
    "Корреляционное отношение ro = 0.9155714379281714\n",
    "Вероятная погрешность прогноза delta50 = 25.20790293587468"
   ]
  },
  {
   "cell_type": "code",
   "execution_count": null,
   "id": "55b5865c-5c42-4079-8a2a-05e24c3d0adc",
   "metadata": {},
   "outputs": [],
   "source": []
  },
  {
   "cell_type": "code",
   "execution_count": null,
   "id": "03e535fc-4253-4ce7-a2c0-c19f2101938c",
   "metadata": {},
   "outputs": [],
   "source": []
  },
  {
   "cell_type": "code",
   "execution_count": null,
   "id": "0936d16e-d458-490e-bca8-3596f4d77655",
   "metadata": {},
   "outputs": [],
   "source": []
  },
  {
   "cell_type": "code",
   "execution_count": null,
   "id": "c03eaa67-7e57-48bd-b667-162ba1f0323f",
   "metadata": {},
   "outputs": [],
   "source": []
  },
  {
   "cell_type": "markdown",
   "id": "1de70d2b-7908-4523-b473-27368557404f",
   "metadata": {},
   "source": [
    "### Обучающий набор"
   ]
  },
  {
   "cell_type": "code",
   "execution_count": 23,
   "id": "89754005-cbf6-4afa-8ace-094582bf7230",
   "metadata": {},
   "outputs": [],
   "source": [
    "test_qnt = 5"
   ]
  },
  {
   "cell_type": "code",
   "execution_count": 24,
   "id": "7a90d07a-6509-48fc-b2b9-aa3f6d23d54c",
   "metadata": {},
   "outputs": [],
   "source": [
    "X_train = X[:-test_qnt]\n",
    "X_test = X[-test_qnt:]"
   ]
  },
  {
   "cell_type": "code",
   "execution_count": 25,
   "id": "73a0224c-d141-45b2-ae86-7fc169248baf",
   "metadata": {},
   "outputs": [],
   "source": [
    "y_train = y[:-test_qnt]\n",
    "y_test = y[-test_qnt:]"
   ]
  },
  {
   "cell_type": "markdown",
   "id": "c3f58c02-117c-42f4-bcb5-b7d4f29373de",
   "metadata": {},
   "source": [
    "## Этап нормализации"
   ]
  },
  {
   "cell_type": "raw",
   "id": "ff019d4b-92a5-4737-9034-c312ab94b0b0",
   "metadata": {},
   "source": [
    "scaler = preprocessing.StandardScaler().fit(X_train)\n",
    "X_train_sc = scaler.transform(X_train)\n",
    "X_test_sc = scaler.transform(X_test)\n"
   ]
  },
  {
   "cell_type": "raw",
   "id": "838be35f-7ab9-4c14-80bf-cba05aa462c0",
   "metadata": {},
   "source": [
    "regr = linear_model.LinearRegression()\n",
    "regr = regr.fit(X_train, y_train)\n",
    "y_predicted = regr.predict(X_test)\n",
    "print(y_predicted)"
   ]
  },
  {
   "cell_type": "raw",
   "id": "4cd1f4e0-5cf9-4288-b6cc-7416c8c71f3f",
   "metadata": {},
   "source": [
    "regr_sc = linear_model.LinearRegression()\n",
    "regr_sc = regr.fit(X_train_sc, y_train)\n",
    "y_predicted = regr.predict(X_train_sc)\n",
    "print(y_predicted)"
   ]
  },
  {
   "cell_type": "raw",
   "id": "57659058-8ce4-49a6-85ea-0135fe0c82f6",
   "metadata": {},
   "source": [
    "from sklearn.ensemble import RandomForestRegressor\n",
    "regr = RandomForestRegressor()\n",
    "regr = regr.fit(X_train, y_train)\n",
    "y_predicted = regr.predict(X_train)\n",
    "print(y_predicted)"
   ]
  }
 ],
 "metadata": {
  "kernelspec": {
   "display_name": "Python 3 (ipykernel)",
   "language": "python",
   "name": "python3"
  },
  "language_info": {
   "codemirror_mode": {
    "name": "ipython",
    "version": 3
   },
   "file_extension": ".py",
   "mimetype": "text/x-python",
   "name": "python",
   "nbconvert_exporter": "python",
   "pygments_lexer": "ipython3",
   "version": "3.10.11"
  }
 },
 "nbformat": 4,
 "nbformat_minor": 5
}
